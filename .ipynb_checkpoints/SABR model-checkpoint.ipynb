{
 "cells": [
  {
   "cell_type": "markdown",
   "metadata": {},
   "source": [
    "# Experiments with SABR"
   ]
  },
  {
   "cell_type": "markdown",
   "metadata": {},
   "source": [
    "\\begin{align*}\n",
    "&dS_t = \\alpha_t S_t^\\beta dW_t^1 \\\\\n",
    "&d\\alpha_t = \\gamma \\alpha_t dW_t^2 \\\\\n",
    "&dW_t^1 dW_t^2 = \\rho dt \n",
    "\\end{align*}\n",
    "- $S_t$: The forward price at time $t$                     \n",
    "- $\\alpha_t$: The instantaneous volatility at time $t$\n",
    "- $\\beta$: The elasticity parameter\n",
    "- $\\gamma$: The volatility of volatility\n",
    "- $W_t^1$: A standard Brownian motion\n",
    "- $W_t^2$: Another standard Brownian motion\n",
    "- $\\rho$: The correlation between $W_t^1$ and $W_t^2$\n"
   ]
  },
  {
   "cell_type": "markdown",
   "metadata": {},
   "source": [
    "### Re-normalization\n",
    "\n",
    "\n",
    "\\begin{align*}\n",
    "&\\bar{S}(t) = \\frac{S(t)}{S(0)}, \\\\\n",
    "&\\bar{\\alpha}(t) = \\frac{\\alpha(t)}{\\alpha(0)} \\\\\n",
    "& v = \\alpha(0)S(0)^{\\beta-1} \\\\\n",
    "& \\bar{K} = \\frac{K}{S(0)}\n",
    "\\end{align*}"
   ]
  },
  {
   "cell_type": "markdown",
   "metadata": {},
   "source": [
    "\\begin{align*}\n",
    "&dS(t) = v\\alpha(t) S(t)^\\beta dW_t^1 \\\\\n",
    "&d\\alpha(t) = \\gamma \\alpha(t) dW_t^2 \\\\\n",
    "&\\rho = 0, S(0) = 1, \\alpha(0) = 1 \\\\\n",
    "\\end{align*}"
   ]
  },
  {
   "cell_type": "markdown",
   "metadata": {},
   "source": [
    "### We set $\\rho = 0$ in order to have analytical solution."
   ]
  },
  {
   "cell_type": "markdown",
   "metadata": {},
   "source": [
    "### The goal is to fit the implied normal volatility for a European call in the SABR model\n",
    "\n",
    "\\begin{align*}\n",
    "&\\sigma_N(.) = \\sigma_N(v,\\beta,\\gamma,K) \n",
    "\\end{align*}\n"
   ]
  },
  {
   "cell_type": "code",
   "execution_count": 43,
   "metadata": {},
   "outputs": [],
   "source": [
    "import numpy as np\n",
    "from scipy.stats import norm, gamma"
   ]
  },
  {
   "cell_type": "code",
   "execution_count": 44,
   "metadata": {},
   "outputs": [],
   "source": [
    "# We set time to maturity to 1 year\n",
    "T = 1\n",
    "\n",
    "# We create the four functions that will help us create our sample\n",
    "def at_the_money_vol(z1,v_ref=0.2,v_width=0.75):\n",
    "    v = v_ref * np.exp(v_width*z1 - 1/2*v_width**2)\n",
    "    return v\n",
    "    \n",
    "def skew(z2):\n",
    "    beta = norm.cdf(z2)\n",
    "    return beta\n",
    "\n",
    "def vol_of_vol(z3, V_mult = 4):\n",
    "    return np.sqrt(2*(V_mult-1)*norm.cdf(z3)/T)\n",
    "\n",
    "def strike(z4, v, gamma_vol, K_width=0.2):\n",
    "    g = (K_width**2 * v**2 * T * (1 + gamma_vol**2 * T/2))**(-1)\n",
    "    K = gamma.ppf(norm.cdf(z4), g) / g\n",
    "    return K\n"
   ]
  },
  {
   "cell_type": "code",
   "execution_count": 48,
   "metadata": {},
   "outputs": [],
   "source": [
    "#We fix the seed\n",
    "np.random.seed(123)\n",
    "\n",
    "#We create the sample\n",
    "def generator_sample(n_samples=10):\n",
    "    for _ in range(n_samples):\n",
    "        # Draw standard normal variables\n",
    "        z1, z2, z3, z4 = np.random.normal(size=4)\n",
    "\n",
    "        # Compute the four variables\n",
    "        v = at_the_money_vol(z1)\n",
    "        beta = skew(z2)\n",
    "        gamma_vol = vol_of_vol(z3)\n",
    "        K = strike(z4, v, gamma_vol)\n",
    "\n",
    "        # Check the region of the sample\n",
    "        region = check_region(z1,z2,z3,z4)\n",
    "\n",
    "        if check_region == 0:\n",
    "            yield None\n",
    "        else:\n",
    "            yield v, beta, gamma_vol, K, region"
   ]
  },
  {
   "cell_type": "code",
   "execution_count": 49,
   "metadata": {},
   "outputs": [],
   "source": [
    "def check_region(v, beta, gamma, K):\n",
    "    # A compléter\n",
    "    return 0"
   ]
  },
  {
   "cell_type": "code",
   "execution_count": 50,
   "metadata": {},
   "outputs": [
    {
     "name": "stdout",
     "output_type": "stream",
     "text": [
      "(0.06687628460461263, 0.8407015693141326, 1.9153119957128806, 0.9662988841080751, 0)\n",
      "(0.09781883814597861, 0.9506752653050247, 0.2138063690897069, 0.9914076406548963, 0)\n",
      "(0.39014542747441977, 0.19304213154462668, 1.2213230542100124, 0.9867466006593323, 0)\n"
     ]
    }
   ],
   "source": [
    "for i in range(3):\n",
    "    print(next(generator_sample()))"
   ]
  },
  {
   "cell_type": "markdown",
   "metadata": {},
   "source": [
    "$$\n",
    "\\begin{aligned}\n",
    "\\sigma_{\\mathrm{imp}}(S_0,K) &= \\frac{\\alpha}{(S_0\\,K)^{(1-\\beta)/2}} \\frac{Z}{X}\\left[1 + \\frac{(2-3\\rho^2)\\sigma^2\\,T}{24}\\right]\\\\\n",
    "Z &= \\frac{\\gamma}{\\alpha} \\left(S_0\\,K\\right)^{\\beta/2} \\\\\n",
    "\\gamma &= \\frac{\\alpha}{(S_0\\,K)^{(1-\\beta)/2}(1-\\beta)}\\ln\\left(\\frac{S_0}{K}\\right)\n",
    "\\end{aligned}\n",
    "$$\n"
   ]
  },
  {
   "cell_type": "markdown",
   "metadata": {},
   "source": [
    "- $\\alpha$: The initial volatility level.\n",
    "- $\\beta$: The elasticity parameter.\n",
    "- $\\rho$: The correlation parameter.\n",
    "- $\\gamma$: The volatility of volatility parameter.\n",
    "- $S_0$: The current underlying asset price.\n",
    "- K: The option strike price.\n",
    "- T: The time to expiration of the option."
   ]
  },
  {
   "cell_type": "code",
   "execution_count": 51,
   "metadata": {},
   "outputs": [],
   "source": [
    "def SABR_implied_volatility(S_0, alpha_0, beta, rho, gamma, K, T=1):\n",
    "    # Calculate X and Z\n",
    "    X = math.sqrt(S_0 * K)\n",
    "    Z = gamma / alpha_0 * (S_0 ** (1 - beta)) * X\n",
    "    # Calculate the intermediate variables\n",
    "    lnFK = math.log(S_0 / K)\n",
    "    A = alpha_0 / ((S_0 * X) ** ((1 - beta) / 2)) / (1 + ((1 - beta) ** 2) / 24 * (lnFK ** 2) + ((1 - beta) ** 4) / 1920 * (lnFK ** 4))\n",
    "    B = 1 + ((1 - beta) ** 2) / 24 * (alpha_0 ** 2) / ((S_0 * X) ** (1 - beta)) + 1 / 4 * rho * beta * gamma * alpha_0 / ((S_0 * X) ** ((1 - beta) / 2)) + ((2 - 3 * rho ** 2) / 24) * (gamma ** 2)\n",
    "    # Calculate the implied volatility\n",
    "    if abs(Z - 1.0) < 1e-10:\n",
    "        vol = A * lnFK / X * B\n",
    "    else:\n",
    "        zp = math.log((math.sqrt(1 - 2 * rho * Z + Z ** 2) + Z - rho) / (1 - rho))\n",
    "        zm = math.log((math.sqrt(1 - 2 * rho * Z + Z ** 2) - Z + rho) / (1 - rho))\n",
    "        vol = (gamma / (X * A)) * (Z * zp / zm) * B\n",
    "    return vol\n"
   ]
  },
  {
   "cell_type": "code",
   "execution_count": 52,
   "metadata": {},
   "outputs": [],
   "source": [
    "Parameters = list(generator_sample())"
   ]
  },
  {
   "cell_type": "code",
   "execution_count": 53,
   "metadata": {},
   "outputs": [
    {
     "data": {
      "text/plain": [
       "[(0.46202064957895894,\n",
       "  0.26144334450174045,\n",
       "  1.403982507333864,\n",
       "  0.9390459229002577,\n",
       "  0),\n",
       " (0.7895908726501211,\n",
       "  0.9856209282668914,\n",
       "  2.248097438809232,\n",
       "  1.0878074962958608,\n",
       "  0),\n",
       " (0.26245871631182455,\n",
       "  0.9319840681505993,\n",
       "  1.0237559240358756,\n",
       "  1.0766817588748623,\n",
       "  0),\n",
       " (0.05894806875611846,\n",
       "  0.26181772692977684,\n",
       "  2.215162858082676,\n",
       "  0.9688673216668621,\n",
       "  0),\n",
       " (0.1359131156962554,\n",
       "  0.19441120498391012,\n",
       "  1.5474929011436107,\n",
       "  0.8909256677415693,\n",
       "  0),\n",
       " (0.039981527628738495,\n",
       "  0.2420019878498358,\n",
       "  2.222372726133213,\n",
       "  0.9973422073574396,\n",
       "  0),\n",
       " (0.15129049603743933,\n",
       "  0.7543437279285008,\n",
       "  1.0664575051193634,\n",
       "  1.0103055260191498,\n",
       "  0),\n",
       " (0.08252014769407942,\n",
       "  0.042023747881474574,\n",
       "  1.4448577505329934,\n",
       "  1.013412776575236,\n",
       "  0),\n",
       " (0.19461225727595682,\n",
       "  0.4952804256470093,\n",
       "  2.4392169810427973,\n",
       "  1.0303410708938672,\n",
       "  0),\n",
       " (0.3145425531121872,\n",
       "  0.9873941453749238,\n",
       "  0.7660991134730276,\n",
       "  0.9258766113461686,\n",
       "  0)]"
      ]
     },
     "execution_count": 53,
     "metadata": {},
     "output_type": "execute_result"
    }
   ],
   "source": [
    "Parameters"
   ]
  },
  {
   "cell_type": "code",
   "execution_count": null,
   "metadata": {},
   "outputs": [],
   "source": []
  }
 ],
 "metadata": {
  "kernelspec": {
   "display_name": "Python 3 (ipykernel)",
   "language": "python",
   "name": "python3"
  },
  "language_info": {
   "codemirror_mode": {
    "name": "ipython",
    "version": 3
   },
   "file_extension": ".py",
   "mimetype": "text/x-python",
   "name": "python",
   "nbconvert_exporter": "python",
   "pygments_lexer": "ipython3",
   "version": "3.9.16"
  },
  "vscode": {
   "interpreter": {
    "hash": "dce45c8ab860214ad94208527de0d0a04a0b59990b6901f4a547224ce5a72c36"
   }
  }
 },
 "nbformat": 4,
 "nbformat_minor": 2
}
